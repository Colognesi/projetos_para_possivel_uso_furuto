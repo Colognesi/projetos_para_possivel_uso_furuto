{
 "cells": [
  {
   "cell_type": "code",
   "execution_count": 80,
   "metadata": {},
   "outputs": [
    {
     "name": "stdout",
     "output_type": "stream",
     "text": [
      "Insira a quantia de notas a serem inseridas: 3\n",
      "Insira o fator amortizante: 4\n",
      "Insira a nota: 1\n",
      "Insira a nota: 2\n",
      "Insira a nota: 3\n",
      "Media harmonica amortizada é: 1.88785046728972\n",
      "A média do aluno é: 2.0\n",
      "Aluno Reprovado\n"
     ]
    }
   ],
   "source": [
    "def calculo():\n",
    "    sigma = 0\n",
    "    n = 0\n",
    "    N = int(input('Insira a quantia de notas a serem inseridas: '))\n",
    "    x = float(input('Insira o fator amortizante: '))\n",
    "    \n",
    "    for i in range(N):\n",
    "        n = float(input('Insira a nota: '))\n",
    "\n",
    "        sigma += 1 / (n + x)\n",
    "        soma = N / sigma - x\n",
    "        n += n\n",
    "\n",
    "    print('Media harmonica amortizada é: {}'.format(soma))\n",
    "    return (N, n)   \n",
    "\n",
    "def media():\n",
    "    N, n = calculo()\n",
    "    \n",
    "    soma = n / N\n",
    "    \n",
    "    print('A média do aluno é: {}'.format(soma))\n",
    "    \n",
    "    if soma < 5.:\n",
    "        print('Aluno Reprovado')\n",
    "    else:\n",
    "        print('Aluno Aprovado') \n",
    "\n",
    "media()"
   ]
  }
 ],
 "metadata": {
  "kernelspec": {
   "display_name": "Python 3",
   "language": "python",
   "name": "python3"
  },
  "language_info": {
   "codemirror_mode": {
    "name": "ipython",
    "version": 3
   },
   "file_extension": ".py",
   "mimetype": "text/x-python",
   "name": "python",
   "nbconvert_exporter": "python",
   "pygments_lexer": "ipython3",
   "version": "3.7.6"
  }
 },
 "nbformat": 4,
 "nbformat_minor": 4
}
